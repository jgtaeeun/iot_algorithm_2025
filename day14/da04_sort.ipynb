{
 "cells": [
  {
   "cell_type": "markdown",
   "metadata": {},
   "source": [
    "#### 정렬\n",
    "- 오름차순(asc) ,내림차순(desc)\n",
    "\n",
    "<!-- 표 만들 때 :--(왼쪽정렬) --:(오른쪽정렬) :--: (중앙정렬) -->\n",
    "|종류|평균|최선|최악|\n",
    "|:--|:--:|--:|:--:|\n",
    "|선택정렬|$O(n^2)$|$O(n^2)$|$O(n^2)$|\n",
    "|삽입정렬|$O(n^2)$|$O(n^2)$|$O(n^2)$|\n",
    "|버블정렬|$O(n^2)$|$O(n)$|$O(n^2)$|\n",
    "|합병정렬|$O(n log n)$|$O(n log n)$|$O(n log n)$|\n",
    "|퀵정렬|$O(n log n)$|$O(n log n)$|$O(n^2)$|\n",
    "|힙정렬|$O(n log n)$|$O(n log n)$|$O(n log n)$|\n",
    "|쉘정렬|$O(n^{1.25})$|$O(n^{1.25})$|$O(n^{1.25})$|\n",
    "|기수정렬|$O(dn)$|$O(dn)$|$O(dn)$|"
   ]
  },
  {
   "cell_type": "markdown",
   "metadata": {},
   "source": [
    "#### 선택정렬\n",
    "- 여러 데이터 중 가장 작은 값을 뽑는 과정을 반복하여 정렬하는 방식"
   ]
  },
  {
   "cell_type": "code",
   "execution_count": 9,
   "metadata": {},
   "outputs": [],
   "source": [
    "def findMinIdx(ary) :\n",
    "    minIdx = 0\n",
    "    for i in range(1, len(ary)) :\n",
    "        if ary[minIdx] > ary[i] :\n",
    "            minIdx = i\n",
    "\n",
    "    return minIdx\n"
   ]
  },
  {
   "cell_type": "code",
   "execution_count": 11,
   "metadata": {},
   "outputs": [
    {
     "name": "stdout",
     "output_type": "stream",
     "text": [
      "최소값 인덱스 : 3\n",
      "최소값 : 22\n"
     ]
    }
   ],
   "source": [
    "testAry = [55,88,33,22,77]\n",
    "minPos = findMinIdx(testAry)\n",
    "\n",
    "print(f'최소값 인덱스 : {minPos}')\n",
    "print(f'최소값 : {testAry[minPos]}')\n"
   ]
  },
  {
   "cell_type": "code",
   "execution_count": 12,
   "metadata": {},
   "outputs": [
    {
     "name": "stdout",
     "output_type": "stream",
     "text": [
      "정렬 전 -> [188, 162, 198, 120, 50, 150, 177, 105]\n",
      "정렬 후->[50, 105, 120, 150, 162, 177, 188, 198]\n"
     ]
    }
   ],
   "source": [
    "before = [188,162,198,120,50,150,177,105]\n",
    "after = []\n",
    "\n",
    "print(f'정렬 전 -> {before}')\n",
    "for _ in range(len(before)) :\n",
    "    minPos = findMinIdx(before)\n",
    "    after.append(before[minPos])\n",
    "    del(before[minPos])\n",
    "print(f'정렬 후->{after}')\n"
   ]
  },
  {
   "cell_type": "markdown",
   "metadata": {},
   "source": [
    "#### 데이터 교환에서 가장 중요한 swap\n",
    "- 변수가 두개 있을 때 하나의 값을 다른 곳으로 할당하려면 임시 변수가 필요\n",
    "    ```python\n",
    "    def swap(x, y) :\n",
    "        temp = x\n",
    "        x = y\n",
    "        y = temp \n",
    "    ```"
   ]
  },
  {
   "cell_type": "markdown",
   "metadata": {},
   "source": [
    "- 변수 하나로 선택정렬"
   ]
  },
  {
   "cell_type": "code",
   "execution_count": 13,
   "metadata": {},
   "outputs": [
    {
     "name": "stdout",
     "output_type": "stream",
     "text": [
      "정렬전 ->[188, 162, 198, 120, 50, 150, 177, 105]\n",
      "정렬후 ->[50, 105, 120, 150, 162, 177, 188, 198]\n"
     ]
    }
   ],
   "source": [
    "def sortSelection(ary) :\n",
    "    n = len(ary)\n",
    "    for i in range(0, n-1) :\n",
    "        minIdx = i\n",
    "        for j in range(i+1, n) :\n",
    "            if ary[minIdx] > ary[j] :\n",
    "                minIdx = j\n",
    "        temp = ary[i]\n",
    "        ary[i] = ary[minIdx]\n",
    "        ary[minIdx] = temp\n",
    "\n",
    "    return ary\n",
    "\n",
    "\n",
    "dataAry = [188,162,198,120,50,150,177,105]\n",
    "print(f'정렬전 ->{dataAry}')\n",
    "sortSelection(dataAry)\n",
    "print(f'정렬후 ->{dataAry}')\n"
   ]
  },
  {
   "cell_type": "markdown",
   "metadata": {},
   "source": [
    "#### 삽입정렬\n",
    "- 기존 데이터 중에서 자신의 위치를 찾아 데이터를 삽입하는 정렬\n"
   ]
  },
  {
   "cell_type": "markdown",
   "metadata": {},
   "source": [
    "- 삽입될 위치를 찾는 함수"
   ]
  },
  {
   "cell_type": "code",
   "execution_count": 14,
   "metadata": {},
   "outputs": [],
   "source": [
    "def findInsertIndex(ary, data):\n",
    "    findIndex = -1  # 배열의 인덱스 앞(인덱스 0보다 앞을 의미)\n",
    "\n",
    "    for i in range(0, len(ary)) :\n",
    "        if ary[i] > data :\n",
    "            findIndex = i\n",
    "            break\n",
    "    if findIndex == -1 :\n",
    "        return len(ary)\n",
    "    else :\n",
    "        return findIndex\n",
    "    \n",
    "    \n",
    "\n"
   ]
  },
  {
   "cell_type": "code",
   "execution_count": 15,
   "metadata": {},
   "outputs": [
    {
     "name": "stdout",
     "output_type": "stream",
     "text": [
      "삽입 위치 인덱스 -> 0\n"
     ]
    }
   ],
   "source": [
    "testAry = []\n",
    "print(f'삽입 위치 인덱스 -> {findInsertIndex(testAry, 0)}')"
   ]
  },
  {
   "cell_type": "code",
   "execution_count": 16,
   "metadata": {},
   "outputs": [
    {
     "name": "stdout",
     "output_type": "stream",
     "text": [
      "삽입 위치 인덱스 -> 1\n"
     ]
    }
   ],
   "source": [
    "testAry = [33,77,88]\n",
    "print(f'삽입 위치 인덱스 -> {findInsertIndex(testAry, 55)}')"
   ]
  },
  {
   "cell_type": "code",
   "execution_count": 17,
   "metadata": {},
   "outputs": [
    {
     "name": "stdout",
     "output_type": "stream",
     "text": [
      "삽입 위치 인덱스 -> 2\n"
     ]
    }
   ],
   "source": [
    "testAry = [33,55,77,88]\n",
    "print(f'삽입 위치 인덱스 -> {findInsertIndex(testAry, 55)}')"
   ]
  },
  {
   "cell_type": "code",
   "execution_count": 18,
   "metadata": {},
   "outputs": [
    {
     "name": "stdout",
     "output_type": "stream",
     "text": [
      "삽입 위치 인덱스 -> 3\n"
     ]
    }
   ],
   "source": [
    "testAry = [33,77,88]\n",
    "print(f'삽입 위치 인덱스 -> {findInsertIndex(testAry, 100)}')"
   ]
  },
  {
   "cell_type": "markdown",
   "metadata": {},
   "source": [
    "- 삽입 정렬 구현"
   ]
  },
  {
   "cell_type": "code",
   "execution_count": 19,
   "metadata": {},
   "outputs": [
    {
     "name": "stdout",
     "output_type": "stream",
     "text": [
      "정렬 전 - > [188, 162, 198, 120, 50, 150, 177, 105]\n",
      "정렬 중 -> [188]\n",
      "정렬 중 -> [162, 188]\n",
      "정렬 중 -> [162, 188, 198]\n",
      "정렬 중 -> [120, 162, 188, 198]\n",
      "정렬 중 -> [50, 120, 162, 188, 198]\n",
      "정렬 중 -> [50, 120, 150, 162, 188, 198]\n",
      "정렬 중 -> [50, 120, 150, 162, 177, 188, 198]\n",
      "정렬 중 -> [50, 105, 120, 150, 162, 177, 188, 198]\n",
      "정렬 후 - > [50, 105, 120, 150, 162, 177, 188, 198]\n"
     ]
    }
   ],
   "source": [
    "before = [188,162,198,120,50,150,177,105]\n",
    "after =[]\n",
    "\n",
    "print(f'정렬 전 - > {before}')\n",
    "for i in range(len(before)):\n",
    "    data = before[i]\n",
    "    insPos = findInsertIndex(after, data)\n",
    "    after.insert(insPos, data)\n",
    "    print(f'정렬 중 -> {after}')\n",
    "\n",
    "print(f'정렬 후 - > {after}')"
   ]
  },
  {
   "cell_type": "markdown",
   "metadata": {},
   "source": [
    "- 변수 하나로 삽입정렬"
   ]
  },
  {
   "cell_type": "code",
   "execution_count": 20,
   "metadata": {},
   "outputs": [
    {
     "name": "stdout",
     "output_type": "stream",
     "text": [
      "정렬 전 - > [188, 162, 198, 120, 50, 150, 177, 105]\n",
      "정렬 중->[162, 188, 198, 120, 50, 150, 177, 105]\n",
      "정렬 중->[162, 188, 198, 120, 50, 150, 177, 105]\n",
      "정렬 중->[120, 162, 188, 198, 50, 150, 177, 105]\n",
      "정렬 중->[50, 120, 162, 188, 198, 150, 177, 105]\n",
      "정렬 중->[50, 120, 150, 162, 188, 198, 177, 105]\n",
      "정렬 중->[50, 120, 150, 162, 177, 188, 198, 105]\n",
      "정렬 중->[50, 105, 120, 150, 162, 177, 188, 198]\n",
      "정렬 후->[50, 105, 120, 150, 162, 177, 188, 198]\n"
     ]
    }
   ],
   "source": [
    "def sortInsertion(ary):\n",
    "    n = len(ary)\n",
    "    for end in range(1, n) :\n",
    "        for cur in range(end, 0, -1) :\n",
    "            if ary[cur-1] > ary[cur] :\n",
    "                tmp = ary[cur]\n",
    "                ary[cur]=ary[cur-1]\n",
    "                ary[cur-1] = tmp\n",
    "\n",
    "                # 파이썬은가능한 tmp변수 없이 교환하기\n",
    "                # ary[cur] , ary[cur-1] = ary[cur-1], ary[cur]\n",
    "        print(f'정렬 중->{ary}')\n",
    "    return ary\n",
    "\n",
    "dataAry =[188, 162, 198, 120, 50, 150, 177, 105]\n",
    "\n",
    "print(f'정렬 전 - > {dataAry}')\n",
    "dataAry =sortInsertion(dataAry)\n",
    "print(f'정렬 후->{dataAry}')"
   ]
  },
  {
   "cell_type": "markdown",
   "metadata": {},
   "source": [
    "#### 버블정렬\n",
    "- 앞뒤 데이터를 비교해서 큰 값을 뒤로 보내면서 정렬하는 방식"
   ]
  },
  {
   "cell_type": "code",
   "execution_count": 2,
   "metadata": {},
   "outputs": [
    {
     "name": "stdout",
     "output_type": "stream",
     "text": [
      "정렬 전->[91, 58, 83, 99, 97, 67, 58, 86, 53]\n",
      "정렬 중 ->[58, 83, 91, 97, 67, 58, 86, 53, 99]\n",
      "정렬 중 ->[58, 83, 91, 67, 58, 86, 53, 97, 99]\n",
      "정렬 중 ->[58, 83, 67, 58, 86, 53, 91, 97, 99]\n",
      "정렬 중 ->[58, 67, 58, 83, 53, 86, 91, 97, 99]\n",
      "정렬 중 ->[58, 58, 67, 53, 83, 86, 91, 97, 99]\n",
      "정렬 중 ->[58, 58, 53, 67, 83, 86, 91, 97, 99]\n",
      "정렬 중 ->[58, 53, 58, 67, 83, 86, 91, 97, 99]\n",
      "정렬 중 ->[53, 58, 58, 67, 83, 86, 91, 97, 99]\n",
      "정렬 후->[53, 58, 58, 67, 83, 86, 91, 97, 99]\n"
     ]
    }
   ],
   "source": [
    "import random\n",
    "\n",
    "def sortBubble(ary):\n",
    "    n = len(ary)\n",
    "    for end in range(n-1, 0 , -1) :\n",
    "        for cur in range(0, end) :\n",
    "            if ary[cur] > ary[cur+1] :\n",
    "                tmp = ary [cur+1]\n",
    "                ary[cur+1] = ary[cur]\n",
    "                ary[cur] = tmp\n",
    "        print(f'정렬 중 ->{ary}')\n",
    "    return ary\n",
    "\n",
    "dataAry  = [random.randint(50,100) for _ in range(random.randint(8,10))]\n",
    "print(f'정렬 전->{dataAry}')\n",
    "dataAry = sortBubble(dataAry)\n",
    "print(f'정렬 후->{dataAry}')\n"
   ]
  },
  {
   "cell_type": "markdown",
   "metadata": {},
   "source": [
    "##### 버블 정렬 시간복잡도 최선O(n)\n",
    "- 데이터가 거의 정렬이 되고, 한 두개가 데이터가 튀었을 때\n",
    "- 한 사이클을 마쳤을 때 모두 정렬이 되면 더이상 반복문을 처리않고 탈출"
   ]
  },
  {
   "cell_type": "code",
   "execution_count": 4,
   "metadata": {},
   "outputs": [
    {
     "name": "stdout",
     "output_type": "stream",
     "text": [
      "정렬 전->[50, 105, 120, 188, 150, 162, 168, 177]\n",
      "정렬 중->[50, 105, 120, 150, 162, 168, 177, 188] , changeYn상태->True\n",
      "정렬 중->[50, 105, 120, 150, 162, 168, 177, 188] , changeYn상태->False\n",
      "정렬 후 ->[50, 105, 120, 150, 162, 168, 177, 188]\n"
     ]
    }
   ],
   "source": [
    "## 버블정렬 개선함수\n",
    "def sortBubble(ary) :\n",
    "    n= len(ary)\n",
    "\n",
    "    for end in range(n-1, 0, -1) :\n",
    "        changeYn = False\n",
    "        for curr in range(0,end) :\n",
    "            if ary[curr] >ary [curr+1] :\n",
    "                tmp = ary[curr+1]\n",
    "                ary[curr+1] = ary[curr]\n",
    "                ary[curr] = tmp\n",
    "                changeYn = True\n",
    "        print(f'정렬 중->{ary} , changeYn상태->{changeYn}')\n",
    "        \n",
    "        if not changeYn :\n",
    "            break\n",
    "\n",
    "\n",
    "    return ary\n",
    "\n",
    "dataAry = [50,105,120,188,150,162,168,177]\n",
    "print(f'정렬 전->{dataAry}')\n",
    "\n",
    "dataAry = sortBubble(dataAry)\n",
    "print(f'정렬 후 ->{dataAry}')\n"
   ]
  }
 ],
 "metadata": {
  "kernelspec": {
   "display_name": "Python 3",
   "language": "python",
   "name": "python3"
  },
  "language_info": {
   "codemirror_mode": {
    "name": "ipython",
    "version": 3
   },
   "file_extension": ".py",
   "mimetype": "text/x-python",
   "name": "python",
   "nbconvert_exporter": "python",
   "pygments_lexer": "ipython3",
   "version": "3.11.9"
  }
 },
 "nbformat": 4,
 "nbformat_minor": 2
}
