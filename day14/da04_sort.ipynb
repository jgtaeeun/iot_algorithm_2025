{
 "cells": [
  {
   "cell_type": "markdown",
   "metadata": {},
   "source": [
    "#### 정렬\n",
    "- 오름차순(asc) ,내림차순(desc)\n",
    "\n",
    "<!-- 표 만들 때 :--(왼쪽정렬) --:(오른쪽정렬) :--: (중앙정렬) -->\n",
    "|종류|평균|최선|최악|\n",
    "|:--|:--:|--:|:--:|\n",
    "|선택정렬|$O(n^2)$|$O(n^2)$|$O(n^2)$|\n",
    "|삽입정렬|$O(n^2)$|$O(n^2)$|$O(n^2)$|\n",
    "|버블정렬|$O(n^2)$|$O(n^2)$|$O(n^2)$|\n",
    "|합병정렬|$O(n log n)$|$O(n log n)$|$O(n log n)$|\n",
    "|퀵정렬|$O(n log n)$|$O(n log n)$|$O(n^2)$|\n",
    "|힙정렬|$O(n log n)$|$O(n log n)$|$O(n log n)$|\n",
    "|쉘정렬|$O(n^{1.25})$|$O(n^{1.25})$|$O(n^{1.25})$|\n",
    "|기수정렬|$O(dn)$|$O(dn)$|$O(dn)$|"
   ]
  },
  {
   "cell_type": "code",
   "execution_count": null,
   "metadata": {},
   "outputs": [],
   "source": []
  }
 ],
 "metadata": {
  "language_info": {
   "name": "python"
  }
 },
 "nbformat": 4,
 "nbformat_minor": 2
}
