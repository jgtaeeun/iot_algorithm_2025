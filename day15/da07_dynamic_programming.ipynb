{
 "cells": [
  {
   "cell_type": "markdown",
   "metadata": {},
   "source": [
    "#### DP  동적계획법\n",
    "- 연산의 수는 줄이고 최적의 결과를 도출할 수 있는 문제 해결방법"
   ]
  },
  {
   "cell_type": "markdown",
   "metadata": {},
   "source": [
    "#### Memoization\n",
    "|보석종류|무게(kg)|가격(억)|\n",
    "|:--:|--:|--:|\n",
    "|금괴|6|13|\n",
    "|수정|4|8|\n",
    "|루비|3|6|\n",
    "|진주|5|12|"
   ]
  },
  {
   "cell_type": "code",
   "execution_count": 2,
   "metadata": {},
   "outputs": [
    {
     "data": {
      "text/plain": [
       "[[0, 0, 0, 0, 0, 0, 0, 0],\n",
       " [0, 0, 0, 0, 0, 0, 0, 0],\n",
       " [0, 0, 0, 0, 0, 0, 0, 0],\n",
       " [0, 0, 0, 0, 0, 0, 0, 0],\n",
       " [0, 0, 0, 0, 0, 0, 0, 0]]"
      ]
     },
     "execution_count": 2,
     "metadata": {},
     "output_type": "execute_result"
    }
   ],
   "source": [
    "# 배열 초기화\n",
    "# 행 : 보석수(0~4개) , 열: 무게 (0~ 7kg) \n",
    "배열 = [[0 for _ in range(8)] for _ in range(5)]\n",
    "배열"
   ]
  },
  {
   "cell_type": "code",
   "execution_count": 9,
   "metadata": {},
   "outputs": [
    {
     "name": "stdout",
     "output_type": "stream",
     "text": [
      "##메모이제이션 배열##\n",
      "(6, 13) 금괴 보석1  0  0  0  0  0 13 13 \n",
      "(4,  8) 수정 보석2  0  0  0  8  8 13 13 \n",
      "(3,  6) 루비 보석3  0  0  6  8  8 13 14 \n",
      "(5, 12) 진주 보석4  0  0  6  8 12 13 14 \n",
      "\n",
      "배낭에 담을 가장 최대보석 가격->14억원\n"
     ]
    }
   ],
   "source": [
    "# 변수 선언\n",
    "maxWeight = 7   #배낭무게 최대\n",
    "rowCount =4     #보석의 개수\n",
    "weight = [0,6,4,3,5]    # 각 보석당 무게 (없음, 금괴, 수정, 루비, 진주 순)\n",
    "money =[0,13,8,6,12]    # 보석가격      (없음, 금괴, 수정, 루비, 진주 순)\n",
    "treasure = ['','금괴', '수정', '루비', '진주']\n",
    "# 함수 선언\n",
    "def knapsack():\n",
    "    print('##메모이제이션 배열##')\n",
    "    array = [[0 for _ in range(maxWeight+1)] for _ in range(rowCount+1)]\n",
    "\n",
    "    for row in range(1, rowCount+1) :\n",
    "        print(f'({weight[row]}, {money[row]:>2d}) {treasure[row]} 보석{row}' , end=' ')\n",
    "        for col in range(1, maxWeight+1):\n",
    "            if weight[row] > col : # 보석무게 > 가방 무게\n",
    "                array[row][col] = array[row-1][col]\n",
    "            else :\n",
    "                value1 = money[row] + array[row-1][col-weight[row]] \n",
    "                value2 = array[row-1][col]\n",
    "                array[row][col] =max(value1, value2)\n",
    "            print(f'{array[row][col]:>2d}' , end=' ')\n",
    "        print()\n",
    "    \n",
    "    return array[rowCount][maxWeight]   # 최종결과값\n",
    "\n",
    "# 메인로직\n",
    "maxValue =knapsack()\n",
    "print()\n",
    "print(f'배낭에 담을 가장 최대보석 가격->{maxValue}억원')"
   ]
  },
  {
   "cell_type": "code",
   "execution_count": 10,
   "metadata": {},
   "outputs": [
    {
     "name": "stdout",
     "output_type": "stream",
     "text": [
      "##메모이제이션 배열##\n",
      "(5, 12) 진주 보석1  0  0  0  0 12 12 12 \n",
      "(4,  8) 수정 보석2  0  0  0  8 12 12 12 \n",
      "(3,  6) 루비 보석3  0  0  6  8 12 12 14 \n",
      "(6, 13) 금괴 보석4  0  0  6  8 12 13 14 \n",
      "\n",
      "배낭에 담을 가장 최대보석 가격->14억원\n"
     ]
    }
   ],
   "source": [
    "# 변수 선언\n",
    "maxWeight = 7   #배낭무게 최대\n",
    "rowCount =4     #보석의 개수\n",
    "weight = [0,5,4,3,6]    # 각 보석당 무게 (없음, 금괴, 수정, 루비, 진주 순)\n",
    "money =[0,12,8,6,13]    # 보석가격      (없음, 금괴, 수정, 루비, 진주 순)\n",
    "treasure = ['','진주', '수정', '루비', '금괴']\n",
    "# 함수 선언\n",
    "def knapsack():\n",
    "    print('##메모이제이션 배열##')\n",
    "    array = [[0 for _ in range(maxWeight+1)] for _ in range(rowCount+1)]\n",
    "\n",
    "    for row in range(1, rowCount+1) :\n",
    "        print(f'({weight[row]}, {money[row]:>2d}) {treasure[row]} 보석{row}' , end=' ')\n",
    "        for col in range(1, maxWeight+1):\n",
    "            if weight[row] > col : # 보석무게 > 가방 무게\n",
    "                array[row][col] = array[row-1][col]\n",
    "            else :\n",
    "                value1 = money[row] + array[row-1][col-weight[row]] \n",
    "                value2 = array[row-1][col]\n",
    "                array[row][col] =max(value1, value2)\n",
    "            print(f'{array[row][col]:>2d}' , end=' ')\n",
    "        print()\n",
    "    \n",
    "    return array[rowCount][maxWeight]   # 최종결과값\n",
    "\n",
    "# 메인로직\n",
    "maxValue =knapsack()\n",
    "print()\n",
    "print(f'배낭에 담을 가장 최대보석 가격->{maxValue}억원')"
   ]
  },
  {
   "cell_type": "markdown",
   "metadata": {},
   "source": [
    "- 피보나치 수열(재귀호출 vs 동적계획법)"
   ]
  },
  {
   "cell_type": "code",
   "execution_count": 52,
   "metadata": {},
   "outputs": [],
   "source": [
    "\n",
    "def rc_fibo(n):\n",
    "    global count_rc \n",
    "    count_rc +=1\n",
    "\n",
    "    if n == 0 :\n",
    "        return 0\n",
    "    \n",
    "    elif n == 1:\n",
    "        return 1\n",
    "    \n",
    "    else :\n",
    "        return rc_fibo(n-1) + rc_fibo(n-2)\n",
    "    \n"
   ]
  },
  {
   "cell_type": "code",
   "execution_count": 53,
   "metadata": {},
   "outputs": [],
   "source": [
    "def dp_fibo(n):\n",
    "    global count_dp\n",
    "    memo = [0, 1] # fibo(0) , fibo(1)\n",
    "    if n == 0 :\n",
    "        return memo[n]\n",
    "    elif n == 1:\n",
    "        return memo[n]\n",
    "    else :\n",
    "        for i in range(2, n+1):\n",
    "            memo.append(memo[i-1]+memo[i-2])    #메모이제이션\n",
    "            count_dp += 1\n",
    "        return memo[n]\n",
    "\n"
   ]
  },
  {
   "cell_type": "code",
   "execution_count": 54,
   "metadata": {},
   "outputs": [
    {
     "name": "stdout",
     "output_type": "stream",
     "text": [
      "재귀 피보나치 30 = 832040\n",
      "처리횟수 = 2692537\n"
     ]
    }
   ],
   "source": [
    "# 전역변수\n",
    "count_rc, count_dp = 0 ,0 \n",
    "n = 30\n",
    "\n",
    "print(f'재귀 피보나치 {n} = {rc_fibo(n)}')\n",
    "print(f'처리횟수 = {count_rc}')"
   ]
  },
  {
   "cell_type": "code",
   "execution_count": 55,
   "metadata": {},
   "outputs": [
    {
     "name": "stdout",
     "output_type": "stream",
     "text": [
      "동적 피보나치 30 = 832040\n",
      "처리횟수 = 29\n"
     ]
    }
   ],
   "source": [
    "print(f'동적 피보나치 {n} = {dp_fibo(n)}')\n",
    "print(f'처리횟수 = {count_dp }')"
   ]
  }
 ],
 "metadata": {
  "kernelspec": {
   "display_name": "Python 3",
   "language": "python",
   "name": "python3"
  },
  "language_info": {
   "codemirror_mode": {
    "name": "ipython",
    "version": 3
   },
   "file_extension": ".py",
   "mimetype": "text/x-python",
   "name": "python",
   "nbconvert_exporter": "python",
   "pygments_lexer": "ipython3",
   "version": "3.11.9"
  }
 },
 "nbformat": 4,
 "nbformat_minor": 2
}
