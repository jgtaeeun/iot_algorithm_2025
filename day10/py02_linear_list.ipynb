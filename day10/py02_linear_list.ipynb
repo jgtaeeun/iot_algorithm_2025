{
 "cells": [
  {
   "cell_type": "markdown",
   "metadata": {},
   "source": [
    "### 선형리스트(Linear List)"
   ]
  },
  {
   "cell_type": "code",
   "execution_count": 40,
   "metadata": {},
   "outputs": [],
   "source": [
    "katok = ['성진', '원필', '도운','영케이']"
   ]
  },
  {
   "cell_type": "code",
   "execution_count": 41,
   "metadata": {},
   "outputs": [
    {
     "name": "stdout",
     "output_type": "stream",
     "text": [
      "2364888994928\n",
      "2364888991280\n",
      "2364888996464\n",
      "2364888993200\n"
     ]
    }
   ],
   "source": [
    "print(id(katok[0]))\n",
    "print(id(katok[1]))\n",
    "print(id(katok[2]))\n",
    "print(id(katok[3]))\n"
   ]
  },
  {
   "cell_type": "code",
   "execution_count": 42,
   "metadata": {},
   "outputs": [
    {
     "data": {
      "text/plain": [
       "'성진'"
      ]
     },
     "execution_count": 42,
     "metadata": {},
     "output_type": "execute_result"
    }
   ],
   "source": [
    "katok[0]"
   ]
  },
  {
   "cell_type": "code",
   "execution_count": 44,
   "metadata": {},
   "outputs": [
    {
     "data": {
      "text/plain": [
       "'영케이'"
      ]
     },
     "execution_count": 44,
     "metadata": {},
     "output_type": "execute_result"
    }
   ],
   "source": [
    "katok[3]"
   ]
  },
  {
   "cell_type": "markdown",
   "metadata": {},
   "source": [
    "#### 배열이라고 가정\n",
    "- 데이터 마지막에 추가하려면\n",
    "    1. 배열의 마지막에 빈공간을 생성\n",
    "    2. 데이터 추가"
   ]
  },
  {
   "cell_type": "code",
   "execution_count": 45,
   "metadata": {},
   "outputs": [
    {
     "data": {
      "text/plain": [
       "['성진', '원필', '도운', '영케이', None]"
      ]
     },
     "execution_count": 45,
     "metadata": {},
     "output_type": "execute_result"
    }
   ],
   "source": [
    "katok.append(None)\n",
    "katok "
   ]
  },
  {
   "cell_type": "code",
   "execution_count": 46,
   "metadata": {},
   "outputs": [
    {
     "data": {
      "text/plain": [
       "['성진', '원필', '도운', '영케이', '마이데이']"
      ]
     },
     "execution_count": 46,
     "metadata": {},
     "output_type": "execute_result"
    }
   ],
   "source": [
    "katok[len(katok)-1] = '마이데이'\n",
    "katok"
   ]
  },
  {
   "cell_type": "markdown",
   "metadata": {},
   "source": [
    "- 데이터를 중간에 추가하려면\n",
    "    1. 배열의 마지막에 빈공간을 추가\n",
    "    2. 데이터를 추가할 위치까지 이전 데이터를 뒤로 shift\n",
    "    3. 중간에 있는 빈 위치에 새 데이터를 추가\n",
    "\n",
    "- insert()함수를 안 쓰면 아래와 같이 구현해야 함"
   ]
  },
  {
   "cell_type": "code",
   "execution_count": 47,
   "metadata": {},
   "outputs": [
    {
     "data": {
      "text/plain": [
       "['성진', '원필', '도운', '영케이', None, '마이데이']"
      ]
     },
     "execution_count": 47,
     "metadata": {},
     "output_type": "execute_result"
    }
   ],
   "source": [
    "katok.append(None)\n",
    "katok[5]=katok[4]\n",
    "katok[4]=None\n",
    "katok"
   ]
  },
  {
   "cell_type": "code",
   "execution_count": 48,
   "metadata": {},
   "outputs": [
    {
     "data": {
      "text/plain": [
       "['성진', '데이식스', '원필', '도운', '영케이', '마이데이']"
      ]
     },
     "execution_count": 48,
     "metadata": {},
     "output_type": "execute_result"
    }
   ],
   "source": [
    "katok[4]=katok[3]\n",
    "katok[3]=None\n",
    "katok[3]=katok[2]\n",
    "katok[2]=None\n",
    "katok[2]=katok[1]\n",
    "katok[1]=None\n",
    "katok[1]='데이식스'\n",
    "katok"
   ]
  },
  {
   "cell_type": "markdown",
   "metadata": {},
   "source": [
    "- 데이터 삭제\n",
    "    1. 위치의 값을 None으로 변경\n",
    "    2. None이 된 빈 위치에 오른쪽 데이터를 이동, 그자리는 None\n",
    "    3. 배열의 마지막이 None 될때까지 반복\n",
    "    4. del(array[idex]) 삭제"
   ]
  },
  {
   "cell_type": "code",
   "execution_count": 49,
   "metadata": {},
   "outputs": [],
   "source": [
    "katok[1]=None\n",
    "katok[1]=katok[2]\n",
    "katok[2]=None\n",
    "katok[2]= katok[3]\n",
    "katok[3]=None\n",
    "katok[3]=katok[4]\n",
    "katok[4]=None\n",
    "katok[4]=katok[5]\n",
    "katok[5]=None"
   ]
  },
  {
   "cell_type": "code",
   "execution_count": 50,
   "metadata": {},
   "outputs": [
    {
     "data": {
      "text/plain": [
       "['성진', '원필', '도운', '영케이', '마이데이', None]"
      ]
     },
     "execution_count": 50,
     "metadata": {},
     "output_type": "execute_result"
    }
   ],
   "source": [
    "katok"
   ]
  },
  {
   "cell_type": "code",
   "execution_count": 51,
   "metadata": {},
   "outputs": [
    {
     "data": {
      "text/plain": [
       "['성진', '원필', '도운', '영케이', '마이데이']"
      ]
     },
     "execution_count": 51,
     "metadata": {},
     "output_type": "execute_result"
    }
   ],
   "source": [
    "del(katok[5])\n",
    "katok"
   ]
  },
  {
   "cell_type": "markdown",
   "metadata": {},
   "source": [
    "### 선형리스트 일반 구현\n",
    "- day10/py03_linear_list.py로 구현"
   ]
  }
 ],
 "metadata": {
  "kernelspec": {
   "display_name": "Python 3",
   "language": "python",
   "name": "python3"
  },
  "language_info": {
   "codemirror_mode": {
    "name": "ipython",
    "version": 3
   },
   "file_extension": ".py",
   "mimetype": "text/x-python",
   "name": "python",
   "nbconvert_exporter": "python",
   "pygments_lexer": "ipython3",
   "version": "3.11.9"
  }
 },
 "nbformat": 4,
 "nbformat_minor": 2
}
