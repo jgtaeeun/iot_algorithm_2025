{
 "cells": [
  {
   "cell_type": "markdown",
   "metadata": {},
   "source": [
    "### 연결 리스트\n",
    "- 노드(데이터, 링크 쌍)로 다음 데이터를 연결하는 동적 연결방식\n",
    "- 오버헤드가 없어서 매우 빨리 처리"
   ]
  },
  {
   "cell_type": "code",
   "execution_count": 18,
   "metadata": {},
   "outputs": [],
   "source": [
    "class Node():\n",
    "    def __init__(self, data=None, link=None):\n",
    "        self.data=data\n",
    "        self.link=link\n",
    "    \n",
    "    def __str__(self):\n",
    "        return  f'{self.data}/{self.link}'\n",
    "\n",
    "        "
   ]
  },
  {
   "cell_type": "code",
   "execution_count": 19,
   "metadata": {},
   "outputs": [
    {
     "name": "stdout",
     "output_type": "stream",
     "text": [
      "다현/None\n"
     ]
    }
   ],
   "source": [
    "# 노드 생성\n",
    "node1 = Node()\n",
    "node1.data = '다현'\n",
    "print(node1)"
   ]
  },
  {
   "cell_type": "code",
   "execution_count": 20,
   "metadata": {},
   "outputs": [],
   "source": [
    "node2 = Node()\n",
    "node2.data = '정연'\n",
    "node1.link = node2"
   ]
  },
  {
   "cell_type": "code",
   "execution_count": 21,
   "metadata": {},
   "outputs": [],
   "source": [
    "node3 = Node()\n",
    "node3.data = '쯔위'\n",
    "node2.link = node3"
   ]
  },
  {
   "cell_type": "code",
   "execution_count": 22,
   "metadata": {},
   "outputs": [],
   "source": [
    "node4 = Node()\n",
    "node4.data = '사나'\n",
    "node3.link = node4\n",
    "\n",
    "node5 = Node()\n",
    "node5.data = '지효'\n",
    "node4.link = node5\n"
   ]
  },
  {
   "cell_type": "code",
   "execution_count": 23,
   "metadata": {},
   "outputs": [
    {
     "name": "stdout",
     "output_type": "stream",
     "text": [
      "다현 - > 정연 - > 쯔위 - > 사나 - > 지효\n"
     ]
    }
   ],
   "source": [
    "print(node1.data , end=' - > ')\n",
    "print(node1.link.data , end=' - > ')\n",
    "print(node1.link.link.data , end=' - > ')\n",
    "print(node1.link.link.link.data , end=' - > ')\n",
    "print(node1.link.link.link.link.data , end='\\n')\n"
   ]
  },
  {
   "cell_type": "code",
   "execution_count": 24,
   "metadata": {},
   "outputs": [
    {
     "name": "stdout",
     "output_type": "stream",
     "text": [
      "2032863954192\n",
      "2032864323216\n",
      "2032870350032\n",
      "2032864607184\n",
      "2032870322768\n"
     ]
    }
   ],
   "source": [
    "# 순차리스트 처럼 연결되어 있지 않음\n",
    "print(id(node1))\n",
    "print(id(node2))\n",
    "print(id(node3))\n",
    "print(id(node4))\n",
    "print(id(node5))\n"
   ]
  },
  {
   "cell_type": "code",
   "execution_count": 25,
   "metadata": {},
   "outputs": [
    {
     "name": "stdout",
     "output_type": "stream",
     "text": [
      "다현 -> 정연 -> 쯔위 -> 사나 -> 지효\n"
     ]
    }
   ],
   "source": [
    "current = node1\n",
    "print(current.data  , end=' -> ')\n",
    "\n",
    "while current.link != None :\n",
    "    current = current.link\n",
    "    if current.link is None :\n",
    "        print(current.data  , end='\\n')\n",
    "    else :\n",
    "        print(current.data  , end=' -> ')"
   ]
  },
  {
   "cell_type": "markdown",
   "metadata": {},
   "source": [
    "- 연결리스트 중간 데이터 삽입\n",
    "    1. 노드생성\n",
    "    2. 연결할 위치 앞 노드 링크가 가르키는 노드를 생성한 노드도 가리키게 함\n",
    "    3. 앞 노드의 링크가 생성한 노드를 가리키게 함"
   ]
  },
  {
   "cell_type": "code",
   "execution_count": 26,
   "metadata": {},
   "outputs": [],
   "source": [
    "newNode = Node()\n",
    "newNode.data = '트둥이'\n",
    "newNode.link= node2.link\n",
    "node2.link = newNode\n"
   ]
  },
  {
   "cell_type": "code",
   "execution_count": 27,
   "metadata": {},
   "outputs": [
    {
     "name": "stdout",
     "output_type": "stream",
     "text": [
      "다현 -> 정연 -> 트둥이 -> 쯔위 -> 사나 -> 지효\n"
     ]
    }
   ],
   "source": [
    "current = node1\n",
    "print(current.data  , end=' -> ')\n",
    "\n",
    "while current.link != None :\n",
    "    current = current.link\n",
    "    if current.link is None :\n",
    "        print(current.data  , end='\\n')\n",
    "    else :\n",
    "        print(current.data  , end=' -> ')"
   ]
  },
  {
   "cell_type": "markdown",
   "metadata": {},
   "source": [
    "- 노드 삭제\n",
    "    1. 지우려는 노드의 link를 왼쪽 노드의 link로 할당\n",
    "    2. 지우려는 노드 삭제"
   ]
  },
  {
   "cell_type": "code",
   "execution_count": 28,
   "metadata": {},
   "outputs": [],
   "source": [
    "node3.link= node4.link\n",
    "del(node4)"
   ]
  },
  {
   "cell_type": "code",
   "execution_count": 29,
   "metadata": {},
   "outputs": [
    {
     "name": "stdout",
     "output_type": "stream",
     "text": [
      "다현 -> 정연 -> 트둥이 -> 쯔위 -> 지효\n"
     ]
    }
   ],
   "source": [
    "current = node1\n",
    "print(current.data  , end=' -> ')\n",
    "\n",
    "while current.link != None :\n",
    "    current = current.link\n",
    "    if current.link is None :\n",
    "        print(current.data  , end='\\n')\n",
    "    else :\n",
    "        print(current.data  , end=' -> ')"
   ]
  }
 ],
 "metadata": {
  "kernelspec": {
   "display_name": "Python 3",
   "language": "python",
   "name": "python3"
  },
  "language_info": {
   "codemirror_mode": {
    "name": "ipython",
    "version": 3
   },
   "file_extension": ".py",
   "mimetype": "text/x-python",
   "name": "python",
   "nbconvert_exporter": "python",
   "pygments_lexer": "ipython3",
   "version": "3.11.9"
  }
 },
 "nbformat": 4,
 "nbformat_minor": 2
}
