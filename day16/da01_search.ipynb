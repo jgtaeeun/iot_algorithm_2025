{
 "cells": [
  {
   "cell_type": "markdown",
   "metadata": {},
   "source": [
    "#### 검색 알고리즘\n",
    "- 종류\n",
    "    - 순차\n",
    "    - 이진\n",
    "    - 트리"
   ]
  },
  {
   "cell_type": "markdown",
   "metadata": {},
   "source": [
    "- 순차검색"
   ]
  },
  {
   "cell_type": "code",
   "execution_count": 11,
   "metadata": {},
   "outputs": [],
   "source": [
    "# 순차검색 함수정의\n",
    "def seqSearch(ary, data):\n",
    "    pos = -1   # 아무것도 찾지 않음\n",
    "    size = len(ary)\n",
    "\n",
    "    print('## 비교한 데이터 => ' , end=' ')\n",
    "    for i in range(size) :\n",
    "        print(ary[i], end=' ')\n",
    "        if ary[i] == data :\n",
    "            pos= i\n",
    "            break\n",
    "        elif ary[i] > data: #정렬된 데이터에선 더이상 검색할 이유가 없음\n",
    "            break\n",
    "    print()\n",
    "    return pos\n"
   ]
  },
  {
   "cell_type": "code",
   "execution_count": 13,
   "metadata": {},
   "outputs": [
    {
     "name": "stdout",
     "output_type": "stream",
     "text": [
      "배열은 [188, 150, 168, 162, 105, 120, 177, 50]\n",
      "## 비교한 데이터 =>  188 \n",
      "20가 없음\n"
     ]
    }
   ],
   "source": [
    "# 변수 선언\n",
    "dataAry = [188,150,168,162,105,120,177,50]\n",
    "findData = int(input('찾을 값을 입력하시오(숫자)>'))\n",
    "\n",
    "print(f'배열은 {dataAry}')\n",
    "pos = seqSearch(dataAry, findData)\n",
    "if pos == -1 :\n",
    "    print(f'{findData}가 없음')\n",
    "else :\n",
    "    print(f'{findData}가 {pos}에 존재')\n"
   ]
  },
  {
   "cell_type": "code",
   "execution_count": 14,
   "metadata": {},
   "outputs": [
    {
     "name": "stdout",
     "output_type": "stream",
     "text": [
      "배열은 [50, 105, 120, 150, 162, 168, 177, 188]\n",
      "## 비교한 데이터 =>  50 105 120 150 162 168 177 188 \n",
      "190가 없음\n"
     ]
    }
   ],
   "source": [
    "# 변수 선언\n",
    "dataAry = [188,150,168,162,105,120,177,50]\n",
    "findData = int(input('찾을 값을 입력하시오(숫자)>'))\n",
    "dataAry.sort()\n",
    "\n",
    "print(f'배열은 {dataAry}')\n",
    "pos = seqSearch(dataAry, findData)\n",
    "if pos == -1 :\n",
    "    print(f'{findData}가 없음')\n",
    "else :\n",
    "    print(f'{findData}가 {pos}에 존재')\n"
   ]
  },
  {
   "cell_type": "markdown",
   "metadata": {},
   "source": [
    "- 이진검색"
   ]
  },
  {
   "cell_type": "code",
   "execution_count": 19,
   "metadata": {},
   "outputs": [],
   "source": [
    "# 이진 검색 함수 정의\n",
    "def binSearch(ary, data) :\n",
    "    pos = -1 \n",
    "    start = 0\n",
    "    end = len(ary)-1 \n",
    "\n",
    "    while (start <=end ) :  # 시작이 끝보다 커지면 검색실패\n",
    "        mid = (start +end) //2\n",
    "        print(f'mid값 >{mid}')\n",
    "        if data == ary[mid] :\n",
    "            return mid\n",
    "        elif data > ary[mid] :\n",
    "            start = mid+1\n",
    "        else :\n",
    "            end = mid- 1\n",
    "    return pos"
   ]
  },
  {
   "cell_type": "code",
   "execution_count": 21,
   "metadata": {},
   "outputs": [
    {
     "name": "stdout",
     "output_type": "stream",
     "text": [
      "배열은 [50, 60, 105, 120, 150, 160, 162, 168, 177, 188]\n",
      "mid값 >4\n",
      "mid값 >1\n",
      "mid값 >2\n",
      "mid값 >3\n",
      "120가 3에 존재\n"
     ]
    }
   ],
   "source": [
    "# 이진검색은 정렬되어있어야 함.\n",
    "\n",
    "dataAry = [50,60,105,120,150,160,162,168,177,188]\n",
    "findData = int(input('찾을 값을 입력하시오(숫자)>'))\n",
    "\n",
    "\n",
    "print(f'배열은 {dataAry}')\n",
    "pos = binSearch(dataAry, findData)\n",
    "if pos == -1 :\n",
    "    print(f'{findData}가 없음')\n",
    "else :\n",
    "    print(f'{findData}가 {pos}에 존재')\n"
   ]
  },
  {
   "cell_type": "markdown",
   "metadata": {},
   "source": [
    "- 이진트리 검색"
   ]
  },
  {
   "cell_type": "code",
   "execution_count": 27,
   "metadata": {},
   "outputs": [
    {
     "name": "stdout",
     "output_type": "stream",
     "text": [
      "##이진트리(전위순회)##\n",
      "188->150->105->50->120->168->162->177->##이진트리 검색##\n",
      "찾음\n"
     ]
    }
   ],
   "source": [
    "class TreeNode():\n",
    "    def __init__(self):\n",
    "        self.data = None\n",
    "        self.left= None\n",
    "        self.right= None\n",
    "\n",
    "\n",
    "# 전위순회\n",
    "def preorder(node): # 루트노드를 파라미터로\n",
    "    if node == None :\n",
    "        return\n",
    "    print(node.data, end='->')\n",
    "\n",
    "    preorder(node.left)     # 재귀호출\n",
    "    preorder(node.right)\n",
    "\n",
    "\n",
    "\n",
    "\n",
    "# 트리 만들기\n",
    "\n",
    "if __name__ == '__main__' :\n",
    "    \n",
    "    ary =  [188, 150, 168, 162, 105, 120, 177, 50]\n",
    "    node =TreeNode()\n",
    "    node.data = ary[0]\n",
    "    root = node\n",
    "\n",
    "    for i in ary[1: ] :\n",
    "        curr = root\n",
    "\n",
    "        node = TreeNode()\n",
    "        node.data = i\n",
    "\n",
    "        while True : \n",
    "            if i < curr.data :\n",
    "                if curr.left == None :\n",
    "                    curr.left = node \n",
    "                    break\n",
    "                else :\n",
    "                    curr =curr.left\n",
    "            else :\n",
    "                if curr.right == None :\n",
    "                    curr.right  = node \n",
    "                    break\n",
    "                else :\n",
    "                    curr =curr.right\n",
    "\n",
    "    print('##이진트리(전위순회)##')\n",
    "    preorder(root)\n",
    "    print('##이진트리 검색##')\n",
    "    findData= int(input('찾을 값 입력> '))\n",
    "    curr = root\n",
    "    while True:\n",
    "        if curr.data == findData :\n",
    "            print('찾음')\n",
    "            break\n",
    "        elif curr.data < findData :\n",
    "            if curr.right == None :\n",
    "                print('없음')\n",
    "                break\n",
    "            else :\n",
    "                curr = curr.right\n",
    "        else :\n",
    "            if curr.left == None :\n",
    "                print('없음')\n",
    "                break\n",
    "            else :\n",
    "                curr = curr.left \n",
    "        "
   ]
  },
  {
   "cell_type": "code",
   "execution_count": null,
   "metadata": {},
   "outputs": [],
   "source": []
  }
 ],
 "metadata": {
  "kernelspec": {
   "display_name": "Python 3",
   "language": "python",
   "name": "python3"
  },
  "language_info": {
   "codemirror_mode": {
    "name": "ipython",
    "version": 3
   },
   "file_extension": ".py",
   "mimetype": "text/x-python",
   "name": "python",
   "nbconvert_exporter": "python",
   "pygments_lexer": "ipython3",
   "version": "3.11.9"
  }
 },
 "nbformat": 4,
 "nbformat_minor": 2
}
