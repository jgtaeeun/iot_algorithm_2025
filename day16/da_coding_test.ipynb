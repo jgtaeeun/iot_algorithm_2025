{
 "cells": [
  {
   "cell_type": "markdown",
   "metadata": {},
   "source": [
    "- 1. 동적계획법 배낭함수"
   ]
  },
  {
   "cell_type": "code",
   "execution_count": null,
   "metadata": {},
   "outputs": [],
   "source": [
    "# 행은 보석 , 열은 무게\n",
    "# 없음 , 보석1, 보석2, ...\n",
    "# 0 , 1kg , 2kg ...\n",
    "\n",
    "def knapsack():\n",
    "    array = [[0 for _ in range(maxWeight +1)] for _ in range (rowCount+1)]\n",
    "    for row in range(1, rowCount+1) :           \n",
    "        for col in range(1, maxWeight + 1) :\n",
    "            if weight[row] >col :   # 보석무게 >가방무게\n",
    "                array[row][col] = array[row-1][col]     # 앞선 행의 값\n",
    "            else :\n",
    "                value1 = money[row] +array[row-1][col-weight[row]]          \n",
    "                value2 = array[row-1][col]\n",
    "                array[row][col] = max(value1, value2)\n",
    "    return array[rowCount][maxWeight]"
   ]
  },
  {
   "cell_type": "markdown",
   "metadata": {},
   "source": [
    "# 2.  P269 유명 맛집 대기줄 구현하기 문제를 while True:문을 사용하여 동적으로 입력을 받는 프로그램으로 변경작성하시오."
   ]
  },
  {
   "cell_type": "code",
   "execution_count": 68,
   "metadata": {},
   "outputs": [
    {
     "name": "stdout",
     "output_type": "stream",
     "text": [
      "대기명단>[None, None, None, None, None]\n",
      "대기명단>['정국', None, None, None, None]\n",
      "대기명단>['정국', '지민', None, None, None]\n",
      "대기명단>['정국', '지민', '뷔', None, None]\n",
      "대기명단>['정국', '지민', '뷔', '제이홉', None]\n",
      "대기명단>['정국', '지민', '뷔', '제이홉', '슈가']\n",
      "대기마감 정국님 입장\n",
      "대기명단>[None, '지민', '뷔', '제이홉', '슈가']\n",
      "대기명단>['지민', '뷔', '제이홉', '슈가', '진']\n",
      "대기마감 지민님 입장\n",
      "대기명단>[None, '뷔', '제이홉', '슈가', '진']\n"
     ]
    }
   ],
   "source": [
    "\n",
    "\n",
    "def isEmpty ():\n",
    "    global queue, front, rear\n",
    "    if front == rear :\n",
    "        return True\n",
    "    else :\n",
    "        return False\n",
    "    \n",
    "def isFull():\n",
    "    global queue,front, rear\n",
    "    if rear != len(queue) -1 :\n",
    "        return False\n",
    "    elif rear == len(queue)-1 and front == -1 :\n",
    "        return True\n",
    "    else :\n",
    "        for i in range(front+1, len(queue)):\n",
    "            queue[i-1] = queue[i]\n",
    "            queue[i] = None\n",
    "        front -= 1\n",
    "        rear -= 1\n",
    "        return False\n",
    "    \n",
    "def enQueue(name) :\n",
    "    global queue,front, rear\n",
    " \n",
    "\n",
    "    rear += 1\n",
    "    queue[rear] = name\n",
    "       \n",
    "\n",
    "def deQueue() :\n",
    "    global queue,front, rear\n",
    "    if isEmpty():\n",
    "        return None\n",
    "    else :\n",
    "\n",
    "        front += 1\n",
    "        name = queue[front] \n",
    "        queue[front] = None\n",
    "        return name\n",
    "       \n",
    "SIZE = 5\n",
    "queue = [None for _ in range(SIZE)]\n",
    "front = rear = -1\n",
    "\n",
    "while True: \n",
    "        print(f'대기명단>{queue}')\n",
    "        select = input('대기등록|종료>')\n",
    "        if select == '대기등록' :\n",
    "            if isFull():\n",
    "                print('대기마감', end=' ')\n",
    "                name = deQueue()\n",
    "                if name == None :\n",
    "                    print(f'대기없음')\n",
    "                else :\n",
    "                    print(f'{name}님 입장')\n",
    "            else :\n",
    "                name = input('이름>')\n",
    "                enQueue(name)\n",
    "                \n",
    "        else : \n",
    "            break"
   ]
  },
  {
   "cell_type": "markdown",
   "metadata": {},
   "source": [
    "# 3.P309 편의점 판매된 물건 목록 출력하기 문제 역시 while True: 문으로 동적으로 입력받는 프로그램으로 변경하시오."
   ]
  },
  {
   "cell_type": "code",
   "execution_count": 8,
   "metadata": {},
   "outputs": [
    {
     "name": "stdout",
     "output_type": "stream",
     "text": [
      "콘말차 \n",
      "콘말차 삿포로 맥주 \n",
      "콘말차 삿포로 맥주 레어치즈푸딩 페퍼로니피자주먹밥 \n"
     ]
    }
   ],
   "source": [
    "def preorder(root) :\n",
    "        if root == None :\n",
    "              return\n",
    "        print(root.data , end=' ')\n",
    "        preorder(root.left)\n",
    "        preorder(root.right)\n",
    "        \n",
    "\n",
    "class TreeNode():\n",
    "    def __init__(self):\n",
    "        self.right = None\n",
    "        self.left = None\n",
    "        self.data = None\n",
    "items =['콘말차', '삿포로 맥주', '아카페라 벤티 헤이즐넛', '레어치즈푸딩', '척오리지널 메가 사워', '요아정 요거트컵', '페퍼로니피자주먹밥', '널담 슈톨렌', \n",
    "        '딸기마시멜로케이크', '버니공쥬 딸기뚱카롱', '고추잡채호빵, 체다 슈크림붕어스낵']\n",
    "count = 0\n",
    "while True :\n",
    "        select = input('등록|종료>')\n",
    "        if select == '종료':\n",
    "               break\n",
    "\n",
    "        item = input('사용자 구매 물품 >').split('|')\n",
    "        for i in range(len(item)):\n",
    "            if count == 0 :\n",
    "                    node = TreeNode()\n",
    "                    node.data = item[i]\n",
    "                    root = node\n",
    "                    count += 1\n",
    "            else :\n",
    "                    node = TreeNode()\n",
    "                    node.data = item[i]\n",
    "                    curr = root\n",
    "                    while True :\n",
    "                            if node.data == curr.data :   # 중복\n",
    "                                    break\n",
    "                            elif node.data > curr.data:   #오른쪽자식\n",
    "                                    if curr.right == None :\n",
    "                                            curr.right = node\n",
    "                                            break\n",
    "                                    else : \n",
    "                                            curr = curr.right\n",
    "                            else :                          #오른쪽자식\n",
    "                                    if curr.left == None :\n",
    "                                            curr.left = node\n",
    "                                            break\n",
    "                                    else :\n",
    "                                            curr = curr.left\n",
    "        preorder(root) \n",
    "        print()\n",
    "\n"
   ]
  },
  {
   "cell_type": "markdown",
   "metadata": {},
   "source": [
    "# 4. P473 Self Study 13-2 의 문제. 이진 검색 알고리즘을 풀면서 검색 횟수도 같이 출력하도록 구현하세요."
   ]
  },
  {
   "cell_type": "code",
   "execution_count": 3,
   "metadata": {},
   "outputs": [],
   "source": [
    "import random\n",
    "\n",
    "\n",
    "def binSearch(ary, data):\n",
    "    pos = -1\n",
    "    start =0\n",
    "    end = len(ary)-1\n",
    "    count = 0\n",
    "    while (start <=end):\n",
    "        count += 1 \n",
    "        mid = (start +end) //2\n",
    "        if data == ary[mid]:\n",
    "            return mid , count\n",
    "        elif data > ary[mid]:\n",
    "            start = mid +1\n",
    "        else :\n",
    "            end = mid -1\n",
    "    return pos , count\n",
    "\n"
   ]
  },
  {
   "cell_type": "code",
   "execution_count": 4,
   "metadata": {},
   "outputs": [
    {
     "name": "stdout",
     "output_type": "stream",
     "text": [
      "(1)배열일부->[0, 2, 5, 9, 9] ~~~[100000, 99999, 99998, 99997, 99996]\n",
      "35656는 없음\n",
      "##17회 검색함\n",
      "(2)배열일부->[0, 1, 1, 1, 3] ~~~[100000, 100000, 100000, 99995, 99995]\n",
      "35211는 없음\n",
      "##17회 검색함\n",
      "(3)배열일부->[0, 1, 4, 6, 8] ~~~[99998, 99995, 99995, 99995, 99995]\n",
      "29035는 28909 위치에 있음\n",
      "##16회 검색함\n"
     ]
    }
   ],
   "source": [
    "c = 1\n",
    "while True:\n",
    "   \n",
    "    dataAry = [random.randint(0,100000) for _ in range(100000)]\n",
    "    dataAry.sort()\n",
    "    findData = random.randint(0,100000) \n",
    "    pos , count = binSearch(dataAry, findData)\n",
    "    print(f'({c})배열일부->{dataAry[:5]} ~~~{dataAry[-1:-6:-1]}')\n",
    "    if pos == -1 :\n",
    "        print(f'{findData}는 없음')\n",
    "        print(f'##{ count}회 검색함')\n",
    "        c += 1\n",
    "    else :\n",
    "        print(f'{findData}는 {pos} 위치에 있음')\n",
    "        print(f'##{ count}회 검색함')\n",
    "        break\n"
   ]
  }
 ],
 "metadata": {
  "kernelspec": {
   "display_name": "Python 3",
   "language": "python",
   "name": "python3"
  },
  "language_info": {
   "codemirror_mode": {
    "name": "ipython",
    "version": 3
   },
   "file_extension": ".py",
   "mimetype": "text/x-python",
   "name": "python",
   "nbconvert_exporter": "python",
   "pygments_lexer": "ipython3",
   "version": "3.11.9"
  }
 },
 "nbformat": 4,
 "nbformat_minor": 2
}
