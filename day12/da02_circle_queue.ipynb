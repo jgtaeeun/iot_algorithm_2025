{
 "cells": [
  {
   "cell_type": "markdown",
   "metadata": {},
   "source": [
    "### 원형큐"
   ]
  },
  {
   "cell_type": "markdown",
   "metadata": {},
   "source": [
    "#### 초기화\n",
    "- rear =front = 0"
   ]
  },
  {
   "cell_type": "markdown",
   "metadata": {},
   "source": [
    "#### 빈 경우\n",
    "- rear == front"
   ]
  },
  {
   "cell_type": "markdown",
   "metadata": {},
   "source": [
    "#### 꽉 찬 경우\n",
    "- 원형 큐에서는 전체에서 한 칸을 적게 사용한다.\n",
    "- if ((rear+1) % 큐 크기 == front )\n"
   ]
  },
  {
   "cell_type": "markdown",
   "metadata": {},
   "source": [
    "#### 큐에 데이터 입력\n",
    "- if (큐가 꽉 찼음):\n",
    "-    return\n",
    "- rear = (rear+1) % 큐크기\n",
    "- queue[rear]=data"
   ]
  },
  {
   "cell_type": "markdown",
   "metadata": {},
   "source": [
    "#### 큐에서 데이터 출력\n",
    "- if (큐가 비었음):\n",
    "-    return\n",
    "- front = (front+1) % 큐크기\n",
    "- data= queue[front]\n",
    "- queue[front]= None"
   ]
  }
 ],
 "metadata": {
  "language_info": {
   "name": "python"
  }
 },
 "nbformat": 4,
 "nbformat_minor": 2
}
