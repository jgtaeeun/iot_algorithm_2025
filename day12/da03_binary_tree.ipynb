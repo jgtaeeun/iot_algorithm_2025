{
 "cells": [
  {
   "cell_type": "markdown",
   "metadata": {},
   "source": [
    "### 이진 트리\n",
    "- 나무를 거꾸로 뒤집은 모양의 자료구조\n",
    "- 이진트리가 구현이 쉽다\n",
    "- 이진트리 왼쪽, 오른쪽 노드를 가지고 아래로 레벨을 내려가는 형태\n",
    "- 이중연결리스트의 노드 모양과 유사\n",
    "\n",
    "<img src ='https://i.namu.wiki/i/8pViDtKiYxEmcz1zj2WHZEpLHeu4q4n1bAjOOTvA4rLde3d-miR4lbCeFRjhzuTV1SLW5vFdg81Q6vb6fm1I9Q.webp' width = 300>\n"
   ]
  },
  {
   "cell_type": "markdown",
   "metadata": {},
   "source": [
    "- 트리노드 클래스"
   ]
  },
  {
   "cell_type": "code",
   "execution_count": 7,
   "metadata": {},
   "outputs": [],
   "source": [
    "class TreeNode():\n",
    "    def __init__(self):\n",
    "        self.data = None\n",
    "        self.left = None\n",
    "        self.right = None"
   ]
  },
  {
   "cell_type": "markdown",
   "metadata": {},
   "source": [
    "- 루트노드 생성(레벨 0)"
   ]
  },
  {
   "cell_type": "code",
   "execution_count": 8,
   "metadata": {},
   "outputs": [],
   "source": [
    "node1 = TreeNode()\n",
    "node1.data = '화사'"
   ]
  },
  {
   "cell_type": "markdown",
   "metadata": {},
   "source": [
    "- 자식노드 생성(레벨 1)"
   ]
  },
  {
   "cell_type": "code",
   "execution_count": 9,
   "metadata": {},
   "outputs": [],
   "source": [
    "node2 = TreeNode()\n",
    "node2.data = '솔라'\n",
    "node1.left = node2  #node1.left 변수에 node2을 집어넣는다는 뜻 -> 연결한다라고 개념적으로 설명"
   ]
  },
  {
   "cell_type": "code",
   "execution_count": 10,
   "metadata": {},
   "outputs": [],
   "source": [
    "node3 = TreeNode()\n",
    "node3.data= '문별'\n",
    "node1.right = node3"
   ]
  },
  {
   "cell_type": "markdown",
   "metadata": {},
   "source": [
    "- 자식노드 생성(레벨2)"
   ]
  },
  {
   "cell_type": "code",
   "execution_count": 11,
   "metadata": {},
   "outputs": [],
   "source": [
    "node4 = TreeNode()\n",
    "node4.data = '쯔위'\n",
    "node2.left = node4\n",
    "\n",
    "node5 = TreeNode()\n",
    "node5.data = '휘인'\n",
    "node2.right = node5"
   ]
  },
  {
   "cell_type": "code",
   "execution_count": 12,
   "metadata": {},
   "outputs": [],
   "source": [
    "node6 =TreeNode()\n",
    "node6.data ='선미'\n",
    "node3.left = node6\n"
   ]
  },
  {
   "cell_type": "code",
   "execution_count": 16,
   "metadata": {},
   "outputs": [
    {
     "name": "stdout",
     "output_type": "stream",
     "text": [
      "화사\n",
      "솔라 문별 \n",
      "쯔위 휘인 선미 \n"
     ]
    }
   ],
   "source": [
    "print(node1.data)\n",
    "print(node1.left.data,node1.right.data, end=' ')\n",
    "print()\n",
    "print(node1.left.left.data,node1.left.right.data, node1.right.left.data, end=' ')\n",
    "print()"
   ]
  },
  {
   "cell_type": "markdown",
   "metadata": {},
   "source": [
    "#### 이진 트리 순회\n",
    "- 전위순회 : 노드-왼쪽-오른쪽\n",
    "- 중위순회 : 왼쪽-노드-오른쪽\n",
    "- 후위순회 : 왼쪽-오른쪽-노드\n"
   ]
  },
  {
   "cell_type": "code",
   "execution_count": 19,
   "metadata": {},
   "outputs": [
    {
     "name": "stdout",
     "output_type": "stream",
     "text": [
      "화사->솔라->쯔위->휘인->문별->선미->"
     ]
    }
   ],
   "source": [
    "# 전위순회\n",
    "def preorder(node): # 루트노드를 파라미터로\n",
    "    if node == None :\n",
    "        return\n",
    "    print(node.data, end='->')\n",
    "\n",
    "    preorder(node.left)     # 재귀호출\n",
    "    preorder(node.right)\n",
    "\n",
    "preorder(node1)"
   ]
  }
 ],
 "metadata": {
  "kernelspec": {
   "display_name": "Python 3",
   "language": "python",
   "name": "python3"
  },
  "language_info": {
   "codemirror_mode": {
    "name": "ipython",
    "version": 3
   },
   "file_extension": ".py",
   "mimetype": "text/x-python",
   "name": "python",
   "nbconvert_exporter": "python",
   "pygments_lexer": "ipython3",
   "version": "3.11.9"
  }
 },
 "nbformat": 4,
 "nbformat_minor": 2
}
