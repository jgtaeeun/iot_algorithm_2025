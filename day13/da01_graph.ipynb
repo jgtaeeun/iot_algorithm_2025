{
 "cells": [
  {
   "cell_type": "markdown",
   "metadata": {},
   "source": [
    "### 그래프\n",
    "- 정점(Vertex)와 간선(Edge)로 구성된 자료 구조\n",
    "- 네비게이션에서 길찾기(거리우선, 시간우선, 금액우선) , 링크드인 인맥표시, 지하철 노선도 ...\n",
    "\n",
    "<img src ='https://upload.wikimedia.org/wikipedia/commons/thumb/a/a2/Directed.svg/1024px-Directed.svg.png' width = 300>"
   ]
  },
  {
   "cell_type": "markdown",
   "metadata": {},
   "source": [
    "- 정점생성"
   ]
  },
  {
   "cell_type": "code",
   "execution_count": 5,
   "metadata": {},
   "outputs": [],
   "source": [
    "class Graph():\n",
    "    def __init__(self, size):\n",
    "        self.SIZE = size\n",
    "        self.graph = [[0 for _ in range(size)] for _ in range(size)]"
   ]
  },
  {
   "cell_type": "markdown",
   "metadata": {},
   "source": [
    "- 무방향 그래프"
   ]
  },
  {
   "cell_type": "code",
   "execution_count": 6,
   "metadata": {},
   "outputs": [],
   "source": [
    "G1 = Graph(4)"
   ]
  },
  {
   "cell_type": "code",
   "execution_count": 8,
   "metadata": {},
   "outputs": [],
   "source": [
    "# 무방향, 정점 4개 , ABCD\n",
    "\n",
    "G1.graph[0][1] = 1\n",
    "G1.graph[0][2] = 1\n",
    "G1.graph[0][3] = 1\n",
    "\n",
    "G1.graph[1][0] = 1\n",
    "G1.graph[1][2] = 1\n",
    "\n",
    "G1.graph[2][0] = 1\n",
    "G1.graph[2][1] = 1\n",
    "G1.graph[2][3] = 1\n",
    "\n",
    "G1.graph[3][0] = 1\n",
    "G1.graph[3][2] = 1"
   ]
  },
  {
   "cell_type": "markdown",
   "metadata": {},
   "source": [
    "- 방향 그래프"
   ]
  },
  {
   "cell_type": "code",
   "execution_count": 9,
   "metadata": {},
   "outputs": [],
   "source": [
    "G3 = Graph(4)"
   ]
  },
  {
   "cell_type": "code",
   "execution_count": 10,
   "metadata": {},
   "outputs": [],
   "source": [
    "# 0 1 2 3   - A B C D\n",
    "G3.graph[0][1] = 1\n",
    "G3.graph[0][2] = 1\n",
    "\n",
    "G3.graph[3][0] = 1\n",
    "G3.graph[3][2] = 1 \n"
   ]
  },
  {
   "cell_type": "markdown",
   "metadata": {},
   "source": [
    "- 그래프 인접행렬 확인"
   ]
  },
  {
   "cell_type": "code",
   "execution_count": 13,
   "metadata": {},
   "outputs": [
    {
     "name": "stdout",
     "output_type": "stream",
     "text": [
      "--G1의 무방향 그래프--\n",
      "0\t1\t1\t1\t\n",
      "1\t0\t1\t0\t\n",
      "1\t1\t0\t1\t\n",
      "1\t0\t1\t0\t\n"
     ]
    }
   ],
   "source": [
    "# G1의 인접 행렬\n",
    "print('--G1의 무방향 그래프--')\n",
    "for i in range(G1.SIZE):\n",
    "    for j in range(G1.SIZE):\n",
    "        print(G1.graph[i][j], end='\\t')\n",
    "    print()"
   ]
  },
  {
   "cell_type": "code",
   "execution_count": 14,
   "metadata": {},
   "outputs": [
    {
     "name": "stdout",
     "output_type": "stream",
     "text": [
      "--G3의 방향 그래프--\n",
      "0\t1\t1\t0\t\n",
      "0\t0\t0\t0\t\n",
      "0\t0\t0\t0\t\n",
      "1\t0\t1\t0\t\n"
     ]
    }
   ],
   "source": [
    "# G3의 인접 행렬\n",
    "print('--G3의 방향 그래프--')\n",
    "for i in range(G3.SIZE):\n",
    "    for j in range(G3.SIZE):\n",
    "        print(G3.graph[i][j], end='\\t')\n",
    "    print()"
   ]
  },
  {
   "cell_type": "markdown",
   "metadata": {},
   "source": [
    "#### 그래프 개선\n",
    "- 정점이 인접행렬에서 숫자로 표시되는데, 이를 정점의 이름으로 변경하는 것\n",
    "- 쉽게 정점이 파악"
   ]
  },
  {
   "cell_type": "code",
   "execution_count": 15,
   "metadata": {},
   "outputs": [],
   "source": [
    "# 전역 변수\n",
    "nameAry = ['효진', '승준', '이션', '와이엇','유', '민균']\n",
    "\n",
    "# 아래 변수 이름으로 코딩할 때 사용\n",
    "# 효진 = 0 ; 승준 = 1 ;  이션 = 2; 와이엇 = 3 ; 유 = 4;  민균 = 5\n",
    "효진 = nameAry.index('효진')\n",
    "승준 = nameAry.index('승준')\n",
    "이션 = nameAry.index('이션')\n",
    "와이엇 = nameAry.index('와이엇')\n",
    "유 = nameAry.index('유')\n",
    "민균 = nameAry.index('민균')\n"
   ]
  },
  {
   "cell_type": "code",
   "execution_count": 49,
   "metadata": {},
   "outputs": [],
   "source": [
    "# 그래프 출력시 정점표시하는 함수\n",
    "def printGraph(graph):\n",
    "    print(' ', end='\\t')\n",
    "    for v in range(graph.SIZE):\n",
    "        print(nameAry[v], end='\\t')\n",
    "    print()\n",
    "\n",
    "\n",
    "    for i in range(graph.SIZE):\n",
    "        print(nameAry[i], end='\\t')\n",
    "        for j in range(graph.SIZE):\n",
    "            print(f'{graph.graph[i][j]:>2d}', end='\\t')\n",
    "        print()\n",
    "    print()\n"
   ]
  },
  {
   "cell_type": "code",
   "execution_count": 50,
   "metadata": {},
   "outputs": [],
   "source": [
    "G4 =Graph(len(nameAry))"
   ]
  },
  {
   "cell_type": "code",
   "execution_count": 51,
   "metadata": {},
   "outputs": [],
   "source": [
    "# 효진 = 0 ; 승준 = 1 ;  이션 = 2; 와이엇 = 3 ; 유 = 4;  민균 = 5\n",
    "G4.graph[효진][승준] = 1\n",
    "G4.graph[효진][이션] = 1\n",
    "\n",
    "G4.graph[승준][효진] = 1\n",
    "G4.graph[승준][와이엇] = 1\n",
    "\n",
    "G4.graph[이션][효진] = 1\n",
    "G4.graph[이션][와이엇] = 1\n",
    "\n",
    "G4.graph[와이엇][승준] = 1\n",
    "G4.graph[와이엇][이션] = 1\n",
    "G4.graph[와이엇][유] = 1\n",
    "G4.graph[와이엇][민균] = 1\n",
    "\n",
    "G4.graph[유][와이엇] = 1\n",
    "G4.graph[유][민균] = 1\n",
    "\n",
    "G4.graph[민균][와이엇] = 1\n",
    "G4.graph[민균][유] = 1\n",
    "\n"
   ]
  },
  {
   "cell_type": "code",
   "execution_count": 52,
   "metadata": {},
   "outputs": [
    {
     "name": "stdout",
     "output_type": "stream",
     "text": [
      " \t효진\t승준\t이션\t와이엇\t유\t민균\t\n",
      "효진\t 0\t 1\t 1\t 0\t 0\t 0\t\n",
      "승준\t 1\t 0\t 0\t 1\t 0\t 0\t\n",
      "이션\t 1\t 0\t 0\t 1\t 0\t 0\t\n",
      "와이엇\t 0\t 1\t 1\t 0\t 1\t 1\t\n",
      "유\t 0\t 0\t 0\t 1\t 0\t 1\t\n",
      "민균\t 0\t 0\t 0\t 1\t 1\t 0\t\n",
      "\n"
     ]
    }
   ],
   "source": [
    "#  개선된 무방향 그래프 출력\n",
    "printGraph(G4)"
   ]
  }
 ],
 "metadata": {
  "kernelspec": {
   "display_name": "Python 3",
   "language": "python",
   "name": "python3"
  },
  "language_info": {
   "codemirror_mode": {
    "name": "ipython",
    "version": 3
   },
   "file_extension": ".py",
   "mimetype": "text/x-python",
   "name": "python",
   "nbconvert_exporter": "python",
   "pygments_lexer": "ipython3",
   "version": "3.11.9"
  }
 },
 "nbformat": 4,
 "nbformat_minor": 2
}
